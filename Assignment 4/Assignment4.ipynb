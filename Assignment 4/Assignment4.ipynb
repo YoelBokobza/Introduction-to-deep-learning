{
  "nbformat": 4,
  "nbformat_minor": 0,
  "metadata": {
    "colab": {
      "name": "Assignment4.ipynb",
      "provenance": [],
      "collapsed_sections": []
    },
    "language_info": {
      "name": "python"
    },
    "kernelspec": {
      "name": "python3",
      "display_name": "Python 3"
    },
    "accelerator": "GPU"
  },
  "cells": [
    {
      "cell_type": "markdown",
      "metadata": {
        "id": "MV-Baq834KT6"
      },
      "source": [
        "# Assignment 4: Language Processing with RNN-Based Autoencoders\n",
        "\n",
        "**Deadline**: Sunday, June 15th, by 9pm.\n",
        "\n",
        "\n",
        "**Submission**: Submit a PDF export of the completed notebook as well as the ipynb file. \n",
        "\n",
        "In this assignement, we will practice the application of deep learning to natural language processing.\n",
        "We will be working with a subset of Reuters news headlines that are collected over 15 months,\n",
        "covering all of 2019, plus a few months in 2018 and in a few months of this year.\n",
        "\n",
        "In particular, we will be building an **autoencoder** of news headlines. The idea is similar\n",
        "to the kind of image autoencoder we built in lecture: we will have an **encoder** that\n",
        "maps a news headline to a vector embedding, and then a **decoder** that reconstructs\n",
        "the news headline. Both our encoder and decoder networks will be Recurrent Neural Networks,\n",
        "so that you have a chance to practice building\n",
        "\n",
        "- a neural network that takes a sequence as an input\n",
        "- a neural network that generates a sequence as an output\n",
        "\n",
        "This assignment is organized as follows:\n",
        "\n",
        "- Question 1. Exploring the data\n",
        "- Question 2. Building the autoencoder\n",
        "- Question 3. Training the autoencoder using *data augmentation*\n",
        "- Question 4. Analyzing the embeddings (interpolating between headlines)\n",
        "\n",
        "Furthermore, we'll be introducing the idea of **data augmentation** for improving of\n",
        "the robustness of the autoencoder, as proposed by Shen et al [1] in ICML 2020.\n",
        "\n",
        "[1] Shen, Tianxiao, Jonas Mueller, Regina Barzilay, and Tommi Jaakkola. \"Educating text autoencoders: Latent representation guidance via denoising.\" In International Conference on Machine Learning, pp. 8719-8729. PMLR, 2020."
      ]
    },
    {
      "cell_type": "code",
      "metadata": {
        "id": "_CobqQza4KUC"
      },
      "source": [
        "import torch\n",
        "import torch.nn as nn\n",
        "import torch.nn.functional as F\n",
        "import torch.optim as optim\n",
        "\n",
        "import matplotlib.pyplot as plt\n",
        "import numpy as np\n",
        "import random\n",
        "from math import floor"
      ],
      "execution_count": null,
      "outputs": []
    },
    {
      "cell_type": "markdown",
      "metadata": {
        "id": "cSz5FCNh4KUD"
      },
      "source": [
        "## Question 1. Data (20 %)\n",
        "\n",
        "Download the files `reuters_train.txt` and `reuters_valid.txt`, and upload them to Google Drive.\n",
        "\n",
        "Then, mount Google Drive from your Google Colab notebook:"
      ]
    },
    {
      "cell_type": "code",
      "metadata": {
        "colab": {
          "base_uri": "https://localhost:8080/"
        },
        "id": "fnABNyg94KUE",
        "outputId": "47bac004-44bc-4bab-d46e-130fc46f4600"
      },
      "source": [
        "from google.colab import drive\n",
        "drive.mount('/content/gdrive')\n",
        "\n",
        "train_path = '/content/gdrive/My Drive/Deep_Learning_Course/data/reuters_train.txt' # Update me\n",
        "valid_path = '/content/gdrive/My Drive/Deep_Learning_Course/data/reuters_valid.txt' # Update me"
      ],
      "execution_count": null,
      "outputs": [
        {
          "output_type": "stream",
          "name": "stdout",
          "text": [
            "Mounted at /content/gdrive\n"
          ]
        }
      ]
    },
    {
      "cell_type": "markdown",
      "metadata": {
        "id": "hdkp4HLW4KUE"
      },
      "source": [
        "As we did in some of our examples (e.g., training transformers on IMDB reviews) will be using PyTorch's `torchtext` utilities to help us load, process,\n",
        "and batch the data. We'll be using a `TabularDataset` to load our data, which works well on structured\n",
        "CSV data with fixed columns (e.g. a column for the sequence, a column for the label). Our tabular dataset\n",
        "is even simpler: we have no labels, just some text. So, we are treating our data as a table with one field\n",
        "representing our sequence."
      ]
    },
    {
      "cell_type": "code",
      "metadata": {
        "id": "I2PjMSho4KUF"
      },
      "source": [
        "import torchtext.legacy.data as data\n",
        "\n",
        "# Tokenization function to separate a headline into words\n",
        "def tokenize_headline(headline):\n",
        "    \"\"\"Returns the sequence of words in the string headline. We also\n",
        "    prepend the \"<bos>\" or beginning-of-string token, and append the\n",
        "    \"<eos>\" or end-of-string token to the headline.\n",
        "    \"\"\"\n",
        "    return (\"<bos> \" + headline + \" <eos>\").split()\n",
        "\n",
        "# Data field (column) representing our *text*.\n",
        "text_field = data.Field(\n",
        "    sequential=True,            # this field consists of a sequence\n",
        "    tokenize=tokenize_headline, # how to split sequences into words\n",
        "    include_lengths=True,       # to track the length of sequences, for batching\n",
        "    batch_first=True,           # similar to batch_first=True used in nn.RNN demonstrated in lecture\n",
        "    use_vocab=True)             # to turn each character into an integer index\n",
        "train_data = data.TabularDataset(\n",
        "    path=train_path,                # data file path\n",
        "    format=\"tsv\",                   # fields are separated by a tab\n",
        "    fields=[('title', text_field)]) # list of fields (we have only one)"
      ],
      "execution_count": null,
      "outputs": []
    },
    {
      "cell_type": "markdown",
      "metadata": {
        "id": "7TNlqCRM4KUF"
      },
      "source": [
        "### Part (a) -- 5%\n",
        "\n",
        "Draw histograms of the number of words per headline in our training set.\n",
        "Excluding the `<bos>` and `<eos>` tags in your computation.\n",
        "Explain why we would be interested in such histograms."
      ]
    },
    {
      "cell_type": "code",
      "metadata": {
        "id": "mBPd0ezl4KUG",
        "colab": {
          "base_uri": "https://localhost:8080/",
          "height": 300
        },
        "outputId": "d4af1b91-a3e9-4c8f-d0b2-3eaff43419bd"
      },
      "source": [
        "# Include your histogram and your written explanations\n",
        "length_list = []\n",
        "for headline in train_data:\n",
        "  length_list.append(len(headline.title[1:-1]))\n",
        "plt.hist(length_list, bins=max(length_list)-min(length_list))\n",
        "plt.xlabel('Headline Length')\n",
        "plt.ylabel('Count')\n",
        "plt.show()"
      ],
      "execution_count": null,
      "outputs": [
        {
          "output_type": "display_data",
          "data": {
            "image/png": "[encoded data removed]",
            "text/plain": [
              "<Figure size 432x288 with 1 Axes>"
            ]
          },
          "metadata": {
            "needs_background": "light"
          }
        }
      ]
    },
    {
      "cell_type": "markdown",
      "metadata": {
        "id": "CWnes5SVRwxl"
      },
      "source": [
        "**Write your explanation here:**\n",
        "\n",
        "During inference, we can observe the decoded sentence length and decide if it is reasonable based on its length as well, e.g., if we decode a sentence with length 200, this is not a reasonable result based on the training data distribution and we can ignore this result.\n",
        "The histogram can further help us to validate that the sentences are not too long ~ [1 - 30] words per sentence. The observation that the sentences are not too long encourages us to think that RNN has the capabilities to solve this problem.\n",
        "\n",
        "In addition, from the sentence length, we can have some intuition about the latent space size.\n",
        "\n",
        "\n",
        "\n"
      ]
    },
    {
      "cell_type": "markdown",
      "metadata": {
        "id": "gm3ysTzh4KUG"
      },
      "source": [
        "### Part (b) -- 5%\n",
        "\n",
        "How many distinct words appear in the training data?\n",
        "Exclude the `<bos>` and `<eos>` tags in your computation."
      ]
    },
    {
      "cell_type": "code",
      "metadata": {
        "id": "2x5wf7h14KUG",
        "colab": {
          "base_uri": "https://localhost:8080/"
        },
        "outputId": "fadc02bd-1945-49c4-cbeb-36884d5bf127"
      },
      "source": [
        "# Report your values here. Make sure that you report the actual values,\n",
        "# and not just the code used to get those values\n",
        "\n",
        "words = set()\n",
        "for sentance in train_data:\n",
        "  for word in sentance.title:\n",
        "    words.add(word)\n",
        "# We remove the <bos> and <eos> from the length of distinct words\n",
        "len_words = len(words) - 2\n",
        "print(f'Number of distict words {len_words}')\n"
      ],
      "execution_count": null,
      "outputs": [
        {
          "output_type": "stream",
          "name": "stdout",
          "text": [
            "Number of distict words 51298\n"
          ]
        }
      ]
    },
    {
      "cell_type": "markdown",
      "metadata": {
        "id": "e5lgEwiM4KUH"
      },
      "source": [
        "### Part (c) -- 5%\n",
        "\n",
        "The distribution of *words* will have a long tail, meaning that there are some words\n",
        "that will appear very often, and many words that will appear infrequently. How many words\n",
        "appear exactly once in the training set? Exactly twice?\n",
        "Print these numbers below"
      ]
    },
    {
      "cell_type": "code",
      "metadata": {
        "id": "RpkUDVoC4KUH",
        "colab": {
          "base_uri": "https://localhost:8080/"
        },
        "outputId": "584b4962-e220-4992-ca61-41dd99660441"
      },
      "source": [
        "# Report your values here. Make sure that you report the actual values,\n",
        "# and not just the code used to get those values\n",
        "from collections import Counter\n",
        "words_dict = {word: 0 for word in words}\n",
        "for sentance in train_data:\n",
        "  for word in sentance.title:\n",
        "    if word == '<eos>' or word == '<bos>':\n",
        "      continue\n",
        "    else:\n",
        "      words_dict[word] += 1\n",
        "count_words = Counter(words_dict)\n",
        "res = [1 for word, length in count_words.items() if length == 1]\n",
        "print(f'Number of words that appear only 1 times is - {sum(res)}')\n",
        "res = [1 for word, length in count_words.items() if length == 2]\n",
        "print(f'Number of words that appear only 2 times is - {sum(res)}')"
      ],
      "execution_count": null,
      "outputs": [
        {
          "output_type": "stream",
          "name": "stdout",
          "text": [
            "Number of words that appear only 1 times is - 19854\n",
            "Number of words that appear only 2 times is - 7193\n"
          ]
        }
      ]
    },
    {
      "cell_type": "markdown",
      "metadata": {
        "id": "K3RKPwdI4KUI"
      },
      "source": [
        "### Part (d) -- 5%\n",
        "We will replace the infrequent\n",
        "words with an `<unk>` tag, instead of learning embeddings for these rare words. `torchtext` also provides us with the `<pad>` tag used for padding short sequences for batching.\n",
        "We will thus only model the top 9995 words in the training set, excluding the tags\n",
        "`<bos>`, `<eos>`, `<unk>`, and `<pad>`.\n",
        "\n",
        "What percentage of total word count(whole dataset) will be supported? Alternatively, what percentage\n",
        "of total word count(whole dataset) in the training set will be set to the `<unk>` tag?"
      ]
    },
    {
      "cell_type": "code",
      "metadata": {
        "id": "Cva5DC_64KUI",
        "colab": {
          "base_uri": "https://localhost:8080/"
        },
        "outputId": "6f68b6ba-f06b-4b16-ec7b-b0e84c6afaa4"
      },
      "source": [
        "# Report your values here. Make sure that you report the actual values,\n",
        "# and not just the code used to get those values\n",
        "\n",
        "# Exclude the words <eos> and <bos> from the counter\n",
        "try:\n",
        "  count_words.pop('<bos>')\n",
        "except KeyError:\n",
        "  pass\n",
        "try:\n",
        "  count_words.pop('<eos>')\n",
        "except KeyError:\n",
        "  pass\n",
        "\n",
        "# Calculate how many words we are going to use\n",
        "numberOfUsedWords = sum([appear for word,appear in count_words.most_common(9995)])\n",
        "numberOfTotalWords = len(sorted(count_words.elements()))\n",
        "print(f'Percentile of words are used for training {numberOfUsedWords/numberOfTotalWords * 100}%')\n",
        "print(f'Percentile of words are excluded from training {100 - numberOfUsedWords/numberOfTotalWords * 100}%')"
      ],
      "execution_count": null,
      "outputs": [
        {
          "output_type": "stream",
          "name": "stdout",
          "text": [
            "Percentile of words are used for training 93.97857393100142%\n",
            "Percentile of words are excluded from training 6.021426068998579%\n"
          ]
        }
      ]
    },
    {
      "cell_type": "markdown",
      "metadata": {
        "id": "SBV8CTyk4KUJ"
      },
      "source": [
        "The `torchtext` package will help us keep track of our list of unique words, known\n",
        "as a **vocabulary**. A vocabulary also assigns a unique integer index to each word."
      ]
    },
    {
      "cell_type": "code",
      "metadata": {
        "colab": {
          "base_uri": "https://localhost:8080/"
        },
        "id": "GRLFF8j14KUJ",
        "outputId": "6daef1a9-64ea-40dc-a755-ba88e7c8a847"
      },
      "source": [
        "# Build the vocabulary based on the training data. The vocabulary\n",
        "# can have at most 9997 words (9995 words + the <bos> and <eos> token)\n",
        "text_field.build_vocab(train_data, max_size=9997)\n",
        "\n",
        "# This vocabulary object will be helpful for us\n",
        "vocab = text_field.vocab\n",
        "print(vocab.stoi[\"hello\"]) # for instances, we can convert from string to (unique) index\n",
        "print(vocab.itos[10])      # ... and from word index to string\n",
        "\n",
        "# The size of our vocabulary  \n",
        "vocab_size = len(text_field.vocab.stoi) \n",
        "# Here are the two tokens that torchtext adds for us:\n",
        "print(vocab.itos[0]) # <unk> represents an unknown word not in our vocabulary\n",
        "print(vocab.itos[1]) # <pad> will be used to pad short sequences for batching   "
      ],
      "execution_count": null,
      "outputs": [
        {
          "output_type": "stream",
          "name": "stdout",
          "text": [
            "0\n",
            "on\n",
            "<unk>\n",
            "<pad>\n"
          ]
        }
      ]
    },
    {
      "cell_type": "markdown",
      "metadata": {
        "id": "bnoMpzC14KUK"
      },
      "source": [
        "## Question 2. Text Autoencoder (40%)\n",
        "\n",
        "Building a text autoencoder is a little more complicated than an image autoencoder like we did in class. So\n",
        "we will need to thoroughly understand the model that we want to build before actually building it. Note that the best and fastest way to complete this assignment is to spend time upfront understanding the architecture. The explanations are quite dense, but it is important to understand the operation of this model. The rationale here is similar in nature to the `seq2seq` RNN model we discussed in class, only we are dealing with unsupervised learning here rather than machine translation. \n",
        "\n",
        "# Architecture description\n",
        "Here is a diagram showing our desired architecture:\n",
        "\n",
        "<img src='https://drive.google.com/uc?id=1UaXAYQvmFbBcuSBQb7ozjSliuVn7bP1Q'>\n",
        "\n",
        "There are two main components to the model: the **encoder** and the **decoder**.\n",
        "As always with neural networks, we'll first describe how to make\n",
        "**predictions** with of these components. Let's get started:\n",
        "\n",
        "The **encoder** will take a sequence of words (a headline) as *input*, and produce an\n",
        "embedding (a vector) that represents the entire headline. In the diagram above,\n",
        "the vector ${\\bf h}^{(7)}$ is the vector embedding containing information about \n",
        "the entire headline.  This portion is very similar\n",
        "to the sentiment analysis RNN that we discussed in lecture (but without the fully-connected\n",
        "layer that makes a prediction).\n",
        "\n",
        "The **decoder** will take an embedding (in the diagram, the vector ${\\bf h}^{(7)}$) as input,\n",
        "and uses a separate RNN to **generate a sequence of words**. To generate a sequence of words,\n",
        "the decoder needs to do the following:\n",
        "\n",
        "\n",
        "1.   Determine the previous word that was generated. This previous word will act as ${\\bf x}^{(t)}$\n",
        "   to our RNN, and will be used to update the hidden state ${\\bf m}^{(t)}$. Since each of our\n",
        "   sequences begin with the `<bos>` token, we'll set ${\\bf x}^{(1)}$ to be the `<bos>` token.\n",
        "2.   Compute the updates to the hidden state ${\\bf m}^{(t)}$ based on the previous hidden state\n",
        "   ${\\bf m}^{(t-1)}$ and ${\\bf x}^{(t)}$. Intuitively, this hidden state vector ${\\bf m}^{(t)}$\n",
        "   is a representation of *all the words we still need to generate*.\n",
        "3. We'll use a fully-connected layer to take a hidden state ${\\bf m}^{(t)}$, and determine\n",
        "   *what the next word should be*. This fully-connected layer solves a *classification problem*,\n",
        "   since we are trying to choose a word out of $K=$ `vocab_size` distinct words. As in a classification\n",
        "   problem, the fully-connected neural network will compute a *probability distribution* over\n",
        "   these `vocab_size` words. In the diagram, we are using ${\\bf z}^{(t)}$ to represent the logits,\n",
        "   or the pre-softmax activation values representing the probability distribution.\n",
        "4. We will need to *sample* an actual word from this probability distribution ${\\bf z}^{(t)}$.\n",
        "   We can do this in a number of ways, which we'll discuss in question 3. For now, you can \n",
        "   imagine your favourite way of picking a word given a distribution over words.\n",
        "5. This word we choose will become the next input ${\\bf x}^{(t+1)}$ to our RNN, which is used\n",
        "   to update our hidden state ${\\bf m}^{(t+1)}$, i.e., to determine what are the remaining\n",
        "   words to be generated.\n",
        "\n",
        "We can repeat this process until we see an `<eos>` token generated, or until the generated\n",
        "sequence becomes too long.\n",
        "\n",
        "# Training the architecture\n",
        "While our autoencoder produces a sequence, computing the loss by comparing the complete generated sequence to the ground truth (the encoder input) gives rise to multiple challanges. One is that the generated\n",
        "sequence might be longer or shorter than the actual sequence, meaning that there may\n",
        "be more/fewer ${\\bf z}^{(t)}$s than ground-truth words. Another more insidious issue\n",
        "is that the **gradients will become very high-variance and unstable**, because\n",
        "**early mistakes will easily throw the model off-track**. Early in training,\n",
        "our model is unlikely to produce the right answer in step $t=1$, so the gradients\n",
        "we obtain based on the other time steps will not be very useful.\n",
        "\n",
        "At this point, you might have some ideas about \"hacks\" we can use to make training\n",
        "work. Fortunately, there is one very well-established solution called\n",
        "**teacher forcing** which we can use for training:\n",
        "instead of *sampling* the next word based on ${\\bf z}^{(t)}$, we will forget sampling,\n",
        "and use the **ground truth** ${\\bf x}^{(t)}$ as the input in the next step.\n",
        "\n",
        "Here is a diagram showing how we can use **teacher forcing** to train our model:\n",
        " \n",
        "<img src='https://drive.google.com/uc?id=1NXlimWaCviDfP8DHlIzyQR1Ie7sxfPuY'>\n",
        "\n",
        "We will use the RNN generator to compute the logits\n",
        "${\\bf z}^{(1)},{\\bf z}^{(2)},  \\cdots {\\bf z}^{(T)}$. These distributions\n",
        "can be compared to the ground-truth words using the cross-entropy loss.\n",
        "The loss function for this model will be the sum of the losses across each $t \\in \\{1,\\ldots,T\\}$.\n",
        "\n",
        "We'll train the encoder and decoder model simultaneously. There are several components\n",
        "to our model that contain tunable weights:\n",
        "\n",
        "- The word embedding that maps a word to a vector representation.\n",
        "  In theory, we could use GloVe embeddings, as we did in class. In this assignment we will not do that, but learn the word embedding from data.\n",
        "  The word embedding component is represented with blue arrows in the diagram.\n",
        "- The encoder RNN (which will use GRUs) that computes the\n",
        "  embedding over the entire headline. The encoder RNN \n",
        "  is represented with black arrows in the diagram.\n",
        "- The decoder RNN (which will also use GRUs) that computes\n",
        "  hidden states, which are vectors representing what words are to be generated.\n",
        "  The decoder RNN is represented with gray arrows in the diagram.\n",
        "- The **projection MLP** (a fully-connected layer) that computes\n",
        "  a distribution over the next word to generate, given a decoder RNN hidden\n",
        "  state. The projection is represented with green arrows \n"
      ]
    },
    {
      "cell_type": "markdown",
      "metadata": {
        "id": "Dk9WDEC90ScA"
      },
      "source": [
        "\n",
        "## Part (a) -- 20%\n",
        "\n",
        "Complete the code for the AutoEncoder class below by:\n",
        "\n",
        "1. Filling in the missing numbers in the `__init__` method using\n",
        "   the parameters `vocab_size`, `emb_size`, and `hidden_size`.  \n",
        "2. Complete the `forward` method, which uses teacher forcing\n",
        "   and computes the logits ${\\bf z}^{(t)}$ of the reconstruction of\n",
        "   the sequence. \n",
        "\n",
        "You should first try to understand the `encode` and `decode` methods,\n",
        "which are written for you. The `encode` method bears much similarity to the\n",
        "RNN we wrote in class for sentiment analysis.  The `decode` method is\n",
        "a bit more challenging. You might want to scroll down to the\n",
        "`sample_sequence` function to see how this function will be called.\n",
        "\n",
        "You can (but don't have to) use the `encode` and `decode` method in\n",
        "your `forward` method. In either case, be careful of the input\n",
        "that you feed into ether `decode` or to `self.decoder_rnn`.\n",
        "Refer to the teacher-forcing diagram.\n",
        "**bold text** Notice that batch_first is set to True, understand how deal with it."
      ]
    },
    {
      "cell_type": "code",
      "metadata": {
        "id": "ey4tslhD4KUO"
      },
      "source": [
        "class AutoEncoder(nn.Module):\n",
        "    def __init__(self, vocab_size, emb_size, hidden_size):\n",
        "        \"\"\"\n",
        "        A text autoencoder. The parameters \n",
        "            - vocab_size: number of unique words/tokens in the vocabulary\n",
        "            - emb_size: size of the word embeddings $x^{(t)}$\n",
        "            - hidden_size: size of the hidden states in both the\n",
        "                           encoder RNN ($h^{(t)}$) and the\n",
        "                           decoder RNN ($m^{(t)}$)\n",
        "        \"\"\"\n",
        "        super().__init__()\n",
        "        self.embed = nn.Embedding(num_embeddings=vocab_size, \n",
        "                                  embedding_dim=emb_size)  \n",
        "        self.encoder_rnn = nn.GRU(input_size=emb_size, \n",
        "                                  hidden_size=hidden_size, \n",
        "                                  batch_first=True)\n",
        "        self.decoder_rnn = nn.GRU(input_size=emb_size, \n",
        "                                  hidden_size=hidden_size, \n",
        "                                  batch_first=True)\n",
        "        self.proj = nn.Linear(in_features=hidden_size, \n",
        "                              out_features=vocab_size)\n",
        "\n",
        "    def encode(self, inp):\n",
        "        \"\"\"\n",
        "        Computes the encoder output given a sequence of words.\n",
        "        \"\"\"\n",
        "        emb = self.embed(inp)\n",
        "        out, last_hidden = self.encoder_rnn(emb)\n",
        "        return last_hidden\n",
        "\n",
        "    def decode(self, inp, hidden=None):\n",
        "        \"\"\"\n",
        "        Computes the decoder output given a sequence of words, and\n",
        "        (optionally) an initial hidden state.\n",
        "        \"\"\"\n",
        "        emb = self.embed(inp)\n",
        "        out, last_hidden = self.decoder_rnn(emb, hidden)\n",
        "        out_seq = self.proj(out)\n",
        "        return out_seq, last_hidden\n",
        "\n",
        "    def forward(self, inp):\n",
        "        \"\"\"\n",
        "        Compute both the encoder and decoder forward pass\n",
        "        given an integer input sequence inp with shape [batch_size, seq_length],\n",
        "        with inp[a,b] representing the (index in our vocabulary of) the b-th word\n",
        "        of the a-th training example.\n",
        "\n",
        "        This function should return the logits $z^{(t)}$ in a tensor of shape\n",
        "        [batch_size, seq_length - 1, vocab_size], computed using *teaching forcing*.\n",
        "\n",
        "        The (seq_length - 1) part is not a typo. If you don't understand why\n",
        "        we need to subtract 1, refer to the teacher-forcing diagram above.\n",
        "        \"\"\"\n",
        "        x = self.encode(inp)\n",
        "        new_inp = inp[:,:-1]\n",
        "        output, last_hidden = self.decode(new_inp, hidden=x)\n",
        "        return output\n",
        "        "
      ],
      "execution_count": null,
      "outputs": []
    },
    {
      "cell_type": "markdown",
      "metadata": {
        "id": "_uwpjvIw4KUQ"
      },
      "source": [
        "### Part (b) -- 10%\n",
        "\n",
        "To check that your model is set up correctly, we'll train our autoencoder\n",
        "neural network for at least 300 iterations to memorize this sequence:"
      ]
    },
    {
      "cell_type": "code",
      "metadata": {
        "id": "sJmPNMnY4KUQ"
      },
      "source": [
        "headline = train_data[42].title\n",
        "input_seq = torch.Tensor([vocab.stoi[w] for w in headline]).long().unsqueeze(0)"
      ],
      "execution_count": null,
      "outputs": []
    },
    {
      "cell_type": "markdown",
      "metadata": {
        "id": "Qj55uU-C4KUQ"
      },
      "source": [
        "We are looking for the way that you set up your loss function\n",
        "corresponding to the figure above.\n",
        "Be  careful of off-by-one errors here.\n",
        "\n",
        "\n",
        "Note that the Cross Entropy Loss expects a rank-2 tensor as its first\n",
        "argument (the output of the network), and a rank-1 tensor as its second argument (the true label). You will\n",
        "need to properly reshape your data to be able to compute the loss."
      ]
    },
    {
      "cell_type": "code",
      "metadata": {
        "id": "aScYWbBx4KUQ",
        "colab": {
          "base_uri": "https://localhost:8080/"
        },
        "outputId": "3b5cd882-c01b-4c83-f8fe-3bba64dc3421"
      },
      "source": [
        "model = AutoEncoder(vocab_size, 128, 128)\n",
        "optimizer = optim.Adam(model.parameters(), lr=0.001)\n",
        "criterion = nn.CrossEntropyLoss()\n",
        "\n",
        "for it in range(300):\n",
        "    z = model(input_seq)\n",
        "    optimizer.zero_grad()\n",
        "    # We remove the <bos> from the begin of sentence\n",
        "    loss = criterion(torch.squeeze(z),torch.squeeze(input_seq[:,1:]))\n",
        "    loss.backward()\n",
        "    optimizer.step()\n",
        "\n",
        "    if (it+1) % 50 == 0:\n",
        "        print(\"[Iter %d] Loss %f\" % (it+1, float(loss)))"
      ],
      "execution_count": null,
      "outputs": [
        {
          "output_type": "stream",
          "name": "stdout",
          "text": [
            "[Iter 50] Loss 0.086394\n",
            "[Iter 100] Loss 0.025433\n",
            "[Iter 150] Loss 0.016252\n",
            "[Iter 200] Loss 0.011460\n",
            "[Iter 250] Loss 0.008538\n",
            "[Iter 300] Loss 0.006679\n"
          ]
        }
      ]
    },
    {
      "cell_type": "markdown",
      "metadata": {
        "id": "SWKYC3z34KUR"
      },
      "source": [
        "### Part (c) -- 4%\n",
        "\n",
        "Once you are satisfied with your model, encode your input using\n",
        "the RNN encoder, and sample some sequences from the decoder. The \n",
        "sampling code is provided to you, and performs the computation\n",
        "from the first diagram (without teacher forcing).\n",
        "\n",
        "Note that we are sampling from a multi-nomial distribution described\n",
        "by the logits $z^{(t)}$. For example, if our distribution is [80%, 20%]\n",
        "over a vocabulary of two words, then we will choose the first word\n",
        "with 80% probability and the second word with 20% probability.\n",
        "\n",
        "Call `sample_sequence` at least 5 times, with the default temperature\n",
        "value. Make sure to include the generated sequences in your PDF\n",
        "report."
      ]
    },
    {
      "cell_type": "code",
      "metadata": {
        "id": "6vjVvmn14KUR",
        "colab": {
          "base_uri": "https://localhost:8080/"
        },
        "outputId": "9c9630ba-713f-497c-c9ce-290bc6131951"
      },
      "source": [
        "def sample_sequence(model, hidden, max_len=20, temperature=1):\n",
        "    \"\"\"\n",
        "    Return a sequence generated from the model's decoder\n",
        "        - model: an instance of the AutoEncoder model\n",
        "        - hidden: a hidden state (e.g. computed by the encoder)\n",
        "        - max_len: the maximum length of the generated sequence\n",
        "        - temperature: described in Part (d)\n",
        "    \"\"\"\n",
        "    # We'll store our generated sequence here\n",
        "    generated_sequence = []\n",
        "    # Set input to the <BOS> token\n",
        "    inp = torch.Tensor([text_field.vocab.stoi[\"<bos>\"]]).long()\n",
        "    for p in range(max_len):\n",
        "        # compute the output and next hidden unit\n",
        "        output, hidden = model.decode(inp.unsqueeze(0), hidden)\n",
        "        # Sample from the network as a multinomial distribution\n",
        "        output_dist = output.data.view(-1).div(temperature).exp()\n",
        "        top_i = int(torch.multinomial(output_dist, 1)[0])\n",
        "        # Add predicted word to string and use as next input\n",
        "        word = text_field.vocab.itos[top_i]\n",
        "        # Break early if we reach <eos>\n",
        "        if word == \"<eos>\":\n",
        "            break\n",
        "        generated_sequence.append(word)\n",
        "        inp = torch.Tensor([top_i]).long()\n",
        "    return generated_sequence\n",
        "\n",
        "# Your solutions go here\n",
        "hidden = model.encode(input_seq)\n",
        "for iter in range(5):\n",
        "  print(25*'=' + ' Iteration ' + str(iter) +' ' + 25*'=')\n",
        "  print(sample_sequence(model, hidden))"
      ],
      "execution_count": null,
      "outputs": [
        {
          "output_type": "stream",
          "name": "stdout",
          "text": [
            "========================= Iteration 0 =========================\n",
            "['zambian', 'president', 'swears', 'in', 'new', 'army', 'chief']\n",
            "========================= Iteration 1 =========================\n",
            "['zambian', 'president', 'swears', 'in', 'new', 'army', 'chief']\n",
            "========================= Iteration 2 =========================\n",
            "['zambian', 'president', 'swears', 'in', 'new', 'army', 'chief']\n",
            "========================= Iteration 3 =========================\n",
            "['zambian', 'president', 'swears', 'in', 'new', 'army', 'chief']\n",
            "========================= Iteration 4 =========================\n",
            "['zambian', 'president', 'swears', 'in', 'new', 'army', 'chief']\n"
          ]
        }
      ]
    },
    {
      "cell_type": "markdown",
      "metadata": {
        "id": "0T7gcPnn4KUR"
      },
      "source": [
        "### Part (d) -- 6%\n",
        "\n",
        "The multi-nomial distribution can be manipulated using the `temperature`\n",
        "setting. This setting can be used to make the distribution \"flatter\" (e.g.\n",
        "more likely to generate different words) or \"peakier\" (e.g. less likely\n",
        "to generate different words).\n",
        "\n",
        "Call `sample_sequence` at least 5 times each for at least 3 different\n",
        "temperature settings (e.g. 1.5, 2, and 5). Explain why we generally\n",
        "don't want the temperature setting to be too **large**."
      ]
    },
    {
      "cell_type": "code",
      "metadata": {
        "id": "jA_S0cmE4KUR",
        "colab": {
          "base_uri": "https://localhost:8080/"
        },
        "outputId": "eb933e97-bfe1-4b43-f17d-c985771d6200"
      },
      "source": [
        "# Include the generated sequences and explanation in your PDF report.\n",
        "for temperature in [1.5,2,5]:\n",
        "  print(25*'=' + ' Temperature ' + str(temperature) +' ' + 25*'=')\n",
        "  for iter in range(5):\n",
        "    print(f'{str(iter)}) {sample_sequence(model, hidden, temperature=temperature)}')"
      ],
      "execution_count": null,
      "outputs": [
        {
          "output_type": "stream",
          "name": "stdout",
          "text": [
            "========================= Temperature 1.5 =========================\n",
            "0) ['informal', 'cyclone', 'zambian', 'president', 'swears', 'in', 'new', 'chosen', 'in', 'invasion', 'bors', 'wide', 'zarif', 'morales']\n",
            "1) ['zambian', 'president', 'swears', 'in', 'new', 'army', 'in', 'at', 'argentina', 'new', 'army', 'fundraising', 'default', '_num_-pound', 'clues', 'cautions', 'stanley', 'chief']\n",
            "2) ['zambian', 'traveling', 'swears', 'in', 'suspicion', 'yanks', 'library', 'final']\n",
            "3) ['zambian', 'headlines', 'climbs', 'swears', 'in', 'new', 'army', 'tiktok', 'athlete', '_num_-second', 'versum']\n",
            "4) ['zambian', 'president', 'swears', 'in', 'new', 'army', 'chief']\n",
            "========================= Temperature 2 =========================\n",
            "0) ['renews', 'notorious', 'interfax', 'defenses', 'dilemma', 'herd', 'fury', 'push', 'displays', 'wpp', 'authorities', 'taste', 'dips', 'your', 'gain', 'specialist', 'tick', 'positive', 'letter']\n",
            "1) ['notch', 'cobalt', 'army', 'layoffs', 'populist', 'snc-lavalin', 'close', 'lady', 'paribas', '_num_-spotify', 'cells', 'lyles', 'in-house', 'swears', 'six-year', 'computer', 'zero', 'commuter', 'impact', 'kohli']\n",
            "2) ['_num_-facebook', 'exits', 'found', 'osaka', 'dialog', 'current', 'palo', 'widening', 'absence', 'full-year', 'new', 'jose', 'plead', 'employees', 'enough']\n",
            "3) ['bogota', 'refugee', 'rekindles', 'northwestern', 'chief', 'telecom', 'antibiotic', 'defies', 'confirmed', 'differences', 'endo', 'restaurants', 'grace', 'opener', 'toward', '-official', 'manufacturers', 'blackouts', 'forces', 'caught']\n",
            "4) ['reshuffles', 'netease', 'cheap', 'bath', 'beer', 'new', '_num_-dish', 'anz', 'prove', 'treaty', 'shaw', 'bias', 'parting', 'rouhani', 'president', 'cape', 'hand', 'in', 'new', 'king']\n",
            "========================= Temperature 5 =========================\n",
            "0) ['belgian', 'lender', 'astronauts', 'neutrality', 'tasnim', 'proof', 'gbagbo', 'ireland', 'royal', 'rooney', 'abn', 'widening', 'manufacturers', 'contain', 'francis', 'waning', 'legislative', 'bottles', 'gunman', 'second']\n",
            "1) ['ex-aide', 'schumer', 'nexon', 'opening', 'arkansas', 'prayer', 'fca-renault', 'respond', 'procedures', 'troop', 'tightens', 'institutions', 'recede', 'convictions', 'chargers', 'park', 'major', 'past', 'who', 'chief']\n",
            "2) ['abbas', 'putting', 'audit', 'sails', 'divided', 'billionaire', 'sika', 'mortgage', 'words', 'united', 'holy', 'toronto', 'lunar', 'more', 'forever', 'rowe', 'sec', 'wife', 'manufacturers', 'pats']\n",
            "3) ['warrant', 'vtb', 'nebraska', 'blind', 'catalonia', 'bit', 'exhibition', 'ftc', 'summer', 'respect', 'announces', 'takeda', 'chief', 'stress', 's.', 'contained', 'factors', 'afghanistan', 'pressed', 'sberbank']\n",
            "4) ['bladder', 'electrek', '_num_-california', 'resort', 'barnier', 'chocolate', 'activity', 'broad', 'alphabet', 'ailing', 'oslo', 'egg', 'strategic', 'sport', 'markets-stock', 'aside', 'hall', 'sovereignty', 'vindman', 'berlin']\n"
          ]
        }
      ]
    },
    {
      "cell_type": "markdown",
      "source": [
        "  The temperture value determine how flatten our distribution. To demonstrate it let's consider two extreme cases where the temperture $t$ tends to zero or to infinity.\n",
        "  The probability to sample the i'th word from the vocobulary is $\\Pr(w_i)=\\frac{exp(\\frac{z_i}{t})}{\\sum_{j=1}^{n}exp(\\frac{z_j}{t})}$, where $z_i$ is the i'th element in the logit vector $z$.\n",
        "While $t$ tends to infinity, for any $i\\in\\{k\\}_{k=1}^{n}$, $\\Pr(w_i)=\\frac{1}{\\sum_{j=1}^{n}1}=\\frac{1}{n}$.\n",
        "While $t$ tends to zero, let's denote by $i^*\\in\\{i\\}_{i=1}^{n}$, the index that satisifses $z_{i^*}=\\max\\{z_i\\}_{i=1}^{n}$ (for simplicity we will assume that there is a unique such $i^*$).\n",
        "$\\Pr(w_i)=\\frac{exp(\\frac{z_i}{t})}{exp(\\frac{z_{i^*}}{t})+\\sum_{j=1,j\\neq i^*}^{n}exp(\\frac{z_j}{t})}$. By dividing the numerator and the denominator by $exp(\\frac{z_{i^*}}{t})$, we get $\\Pr(w_i)=\\frac{exp(\\frac{z_i-z_{i^*}}{t})}{exp(0)+\\sum_{j=1,j\\neq i^*}^{n}exp(\\frac{z_j-z_{i^*}}{t})}$.\n",
        "Note that because $z_j-z_{i^*} < 0$ for $j\\neq i^*$ then, as $t$ tends to zero, the denominator tends to 1. \n",
        "If $i\\neq i^*$ then, $z_i-z_{i^*} < 0$, hence while t tends to zero the numerator tends to zero and therfore, $Pr(w_i)=0$.\n",
        "If $i=i^*$ then, $z_i-z_{i^*}=0$, hence the numerator is eqaul to 1. Therfore $Pr(w_i)=1$. The conclution is that for $t$ that tende to zero, $Pr(w_i)=\\delta[i-i^*]$ where $\\delta$ denotes the Kronecker delta function. Therefore, we conclude that if the temperture is high, the model is more likely to return a words which according to the model are not the most likely with higher probability. In the extreme case when the chosen temperture is very high, The predicted word is simply random."
      ],
      "metadata": {
        "id": "K-A7jXaY1XIA"
      }
    },
    {
      "cell_type": "markdown",
      "metadata": {
        "id": "ZK4ptUb54KUS"
      },
      "source": [
        "## Question 3. Data augmentation (20%)\n",
        "\n",
        "It turns out that getting good results from a text auto-encoder is very difficult,\n",
        "and that it is very easy for our model to **overfit**. We have discussed several methods\n",
        "that we can use to prevent overfitting, and we'll introduce one more today:\n",
        "**data augmentation**.\n",
        "\n",
        "The idea behind data augmentation is to artificially increase the number of training\n",
        "examples by \"adding noise\" to the image. For example, during AlexNet training,\n",
        "the authors randomly cropped $224\\times 224$\n",
        "regions of a $256 \\times 256$ pixel image to increase the amount of training data.\n",
        "The authors also flipped the image left/right.\n",
        "Machine learning practitioners can also add Gaussian noise to the image.\n",
        "\n",
        "When we use data augmentation to train an *autoencoder*, we typically to only add\n",
        "the noise to the input, and expect the reconstruction to be *noise free*.\n",
        "This makes the task of the autoencoder even more difficult. An autoencoder trained\n",
        "with noisy inputs is called a **denoising auto-encoder**. For simplicity, we will\n",
        "*not* build a denoising autoencoder today.\n",
        "\n"
      ]
    },
    {
      "cell_type": "markdown",
      "metadata": {
        "id": "yieWyWqS4KUS"
      },
      "source": [
        "### Part (a) -- 5%\n",
        "\n",
        "We will add noise to our headlines using a few different techniques:\n",
        "\n",
        "1. Shuffle the words in the headline, taking care that words don't end up too far from where they were initially\n",
        "2. Drop (remove) some words \n",
        "3. Replace some words with a blank word (a `<pad>` token)\n",
        "4. Replace some words with a random word \n",
        "\n",
        "The code for adding these types of noise is provided for you:"
      ]
    },
    {
      "cell_type": "code",
      "metadata": {
        "id": "IGb3uL5U4KUS"
      },
      "source": [
        "def tokenize_and_randomize(headline,\n",
        "                           drop_prob=0.1,  # probability of dropping a word\n",
        "                           blank_prob=0.1, # probability of \"blanking\" out a word\n",
        "                           sub_prob=0.1,   # probability of substituting a word with a random one\n",
        "                           shuffle_dist=3): # maximum distance to shuffle a word\n",
        "    \"\"\"\n",
        "    Add 'noise' to a headline by slightly shuffling the word order,\n",
        "    dropping some words, blanking out some words (replacing with the <pad> token)\n",
        "    and substituting some words with random ones.\n",
        "    \"\"\"\n",
        "    headline = [vocab.stoi[w] for w in headline.split()]\n",
        "    n = len(headline)\n",
        "    # shuffle\n",
        "    headline = [headline[i] for i in get_shuffle_index(n, shuffle_dist)]\n",
        "\n",
        "    new_headline = [vocab.stoi['<bos>']]\n",
        "    for w in headline:\n",
        "        if random.random() < drop_prob:\n",
        "            # drop the word\n",
        "            pass\n",
        "        elif random.random() < blank_prob:\n",
        "            # replace with blank word\n",
        "            new_headline.append(vocab.stoi[\"<pad>\"])\n",
        "        elif random.random() < sub_prob:\n",
        "            # substitute word with another word\n",
        "            new_headline.append(random.randint(0, vocab_size - 1))\n",
        "        else:\n",
        "            # keep the original word\n",
        "            new_headline.append(w)\n",
        "    new_headline.append(vocab.stoi['<eos>'])\n",
        "    return new_headline\n",
        "\n",
        "def get_shuffle_index(n, max_shuffle_distance):\n",
        "    \"\"\" This is a helper function used to shuffle a headline with n words,\n",
        "    where each word is moved at most max_shuffle_distance. The function does\n",
        "    the following: \n",
        "       1. start with the *unshuffled* index of each word, which\n",
        "          is just the values [0, 1, 2, ..., n]\n",
        "       2. perturb these \"index\" values by a random floating-point value between\n",
        "          [0, max_shuffle_distance]\n",
        "       3. use the sorted position of these values as our new index\n",
        "    \"\"\"\n",
        "    index = np.arange(n)\n",
        "    perturbed_index = index + np.random.rand(n) * 3\n",
        "    new_index = sorted(enumerate(perturbed_index), key=lambda x: x[1])\n",
        "    return [index for (index, pert) in new_index]"
      ],
      "execution_count": null,
      "outputs": []
    },
    {
      "cell_type": "markdown",
      "metadata": {
        "id": "h8t6eZgy4KUT"
      },
      "source": [
        "Call the function `tokenize_and_randomize` 5 times on a headline of your\n",
        "choice. Make sure to include both your original headline, and the five new\n",
        "headlines in your report."
      ]
    },
    {
      "cell_type": "code",
      "metadata": {
        "id": "CktsYMIE4KUT",
        "colab": {
          "base_uri": "https://localhost:8080/"
        },
        "outputId": "f202cf07-bc95-40e8-da1e-679475eb94d4"
      },
      "source": [
        "# Report your values here. Make sure that you report the actual values,\n",
        "# and not just the code used to get those values\n",
        "\n",
        "text = train_data[50].title\n",
        "text = ' '.join(text)\n",
        "print(f'Original: {text}')\n",
        "print(100* '-')\n",
        "for iter in range(5):\n",
        "  # Agument the sentence - we remove the <bos> and <eos> becuase the function insert them manually\n",
        "  output = tokenize_and_randomize(text[1:-1])\n",
        "  # Convert to string from integer rerpresentation \n",
        "  output = [vocab.itos[elem] for elem in output]\n",
        "  # Join the sentence\n",
        "  output = ' '.join(output)\n",
        "  print(f'{str(iter)}) {output}')\n"
      ],
      "execution_count": null,
      "outputs": [
        {
          "output_type": "stream",
          "name": "stdout",
          "text": [
            "Original: <bos> vehicle ploughs into new year 's crowd in tokyo <eos>\n",
            "----------------------------------------------------------------------------------------------------\n",
            "0) <bos> vehicle <unk> into year new <pad> tokyo crowd in <unk> <eos>\n",
            "1) <bos> <unk> vehicle <unk> patrols new year cats santos <pad> tokyo <unk> <eos>\n",
            "2) <bos> haftar <unk> <unk> grip new year 's in crowd tokyo <unk> <eos>\n",
            "3) <bos> vehicle <unk> year 's recommended crowd in both solved <eos>\n",
            "4) <bos> <pad> vehicle <unk> museum new 's year crowd <unk> tokyo in <eos>\n"
          ]
        }
      ]
    },
    {
      "cell_type": "markdown",
      "metadata": {
        "id": "rHKlJr_m4KUT"
      },
      "source": [
        "### Part (b) -- 8%\n",
        "\n",
        "The training code that we use to train the model is mostly provided for you. \n",
        "The only part we left blank are the parts from Q2(b). Complete the code,\n",
        "and train a new AutoEncoder model for 1 epoch. You can train your model\n",
        "for longer if you want, but training tend to take a long time,\n",
        "so we're only checking to see that your training loss is trending down.\n",
        "\n",
        "If you are using Google Colab, you can use a GPU for this portion.\n",
        "Go to \"Runtime\" => \"Change Runtime Type\"  and set \"Hardware acceleration\" to GPU.\n",
        "Your Colab session will restart.\n",
        "You can move your model to the GPU by typing `model.cuda()`, and move\n",
        "other tensors to GPU (e.g. `xs = xs.cuda()`). To move a model back to CPU,\n",
        "type `model.cpu`. To move a tensor back, use `xs = xs.cpu()`. For training,\n",
        "your model and inputs need to be on the *same device*."
      ]
    },
    {
      "cell_type": "code",
      "source": [
        "device = torch.device(\"cuda:0\" if torch.cuda.is_available() else \"cpu\")"
      ],
      "metadata": {
        "id": "hR9bDlDsCt3W"
      },
      "execution_count": null,
      "outputs": []
    },
    {
      "cell_type": "code",
      "metadata": {
        "id": "9IXnUFUJ4KUT"
      },
      "source": [
        "def train_autoencoder(model, batch_size=64, learning_rate=0.001, num_epochs=10):\n",
        "    optimizer = optim.Adam(model.parameters(), lr=learning_rate)\n",
        "    criterion = nn.CrossEntropyLoss()\n",
        "    train_loss = []\n",
        "    iterVec = []\n",
        "    iterCounter = 0\n",
        "    for ep in range(num_epochs):\n",
        "        # We will perform data augmentation by re-reading the input each time\n",
        "        field = data.Field(sequential=True,\n",
        "                                     tokenize=tokenize_and_randomize, # <-- data augmentation\n",
        "                                     include_lengths=True,\n",
        "                                     batch_first=True,\n",
        "                                     use_vocab=False, # <-- the tokenization function replaces this\n",
        "                                     pad_token=vocab.stoi['<pad>'])\n",
        "        dataset = data.TabularDataset(train_path, \"tsv\", [('title', field)])\n",
        "\n",
        "        # This BucketIterator will handle padding of sequences that are not of the same length\n",
        "        train_iter = data.BucketIterator(dataset,\n",
        "                                         batch_size=batch_size,\n",
        "                                         sort_key=lambda x: len(x.title), # to minimize padding\n",
        "                                         repeat=False)\n",
        "        for it, ((xs, lengths), _) in enumerate(train_iter):\n",
        "            xs = xs.to(device)\n",
        "            # Fill in the training code here\n",
        "            z = model(xs).reshape(-1, vocab_size)\n",
        "            labels_without_bos = xs[:,1:].reshape(-1)\n",
        "            optimizer.zero_grad()\n",
        "            # We remove the <bos> from the begin of sentence\n",
        "            loss = criterion(z,labels_without_bos)\n",
        "            loss.backward()\n",
        "            optimizer.step()\n",
        "            if (it+1) % 100 == 0:\n",
        "              print(\"[Iter %d] Loss %f\" % (it+1, float(loss)))\n",
        "            train_loss.append(float(loss))\n",
        "            iterVec.append(iterCounter)\n",
        "            iterCounter += 1\n",
        "            \n",
        "            # Optional: Compute and track validation loss\n",
        "            # val_loss = 0\n",
        "            # val_n = 0\n",
        "            # for it, ((xs, lengths), _) in enumerate(valid_iter):\n",
        "            #   zs = model(xs)\n",
        "            #   loss = None # TODO\n",
        "            #   val_loss += float(loss)\n",
        "\n",
        "# Include your training curve or output to show that your training loss is trending down\n",
        "    return iterVec, train_loss"
      ],
      "execution_count": null,
      "outputs": []
    },
    {
      "cell_type": "code",
      "source": [
        "def plot_learning_curve(iters, train_losses):\n",
        "    \"\"\"\n",
        "    Plot the learning curve.\n",
        "    \"\"\"\n",
        "    plt.title(\"Learning Curve: Loss per Iteration\")\n",
        "    plt.plot(iters, train_losses, label=\"Train\")\n",
        "    plt.xlabel(\"Iterations\")\n",
        "    plt.ylabel(\"Loss\")\n",
        "    plt.show()"
      ],
      "metadata": {
        "id": "hdZU20fq8MsA"
      },
      "execution_count": null,
      "outputs": []
    },
    {
      "cell_type": "code",
      "source": [
        "model = AutoEncoder(vocab_size, 128, 128).cuda()\n",
        "iters, losses = train_autoencoder(model,num_epochs=1)\n",
        "plot_learning_curve(iters[::50], losses[::50])"
      ],
      "metadata": {
        "colab": {
          "base_uri": "https://localhost:8080/",
          "height": 773
        },
        "id": "QnSbU-iN8Toe",
        "outputId": "ab495eaa-4c9d-4b29-ea74-4a6730a8dcc8"
      },
      "execution_count": null,
      "outputs": [
        {
          "output_type": "stream",
          "name": "stdout",
          "text": [
            "[Iter 100] Loss 4.165724\n",
            "[Iter 200] Loss 3.849206\n",
            "[Iter 300] Loss 3.761531\n",
            "[Iter 400] Loss 4.483603\n",
            "[Iter 500] Loss 4.468360\n",
            "[Iter 600] Loss 4.188010\n",
            "[Iter 700] Loss 3.539526\n",
            "[Iter 800] Loss 3.943288\n",
            "[Iter 900] Loss 3.356971\n",
            "[Iter 1000] Loss 3.703237\n",
            "[Iter 1100] Loss 3.556163\n",
            "[Iter 1200] Loss 3.111730\n",
            "[Iter 1300] Loss 3.944893\n",
            "[Iter 1400] Loss 3.100752\n",
            "[Iter 1500] Loss 3.306914\n",
            "[Iter 1600] Loss 3.217526\n",
            "[Iter 1700] Loss 3.001801\n",
            "[Iter 1800] Loss 3.277736\n",
            "[Iter 1900] Loss 3.417384\n",
            "[Iter 2000] Loss 3.496868\n",
            "[Iter 2100] Loss 3.330262\n",
            "[Iter 2200] Loss 3.337307\n",
            "[Iter 2300] Loss 3.323949\n",
            "[Iter 2400] Loss 3.326774\n",
            "[Iter 2500] Loss 3.466325\n",
            "[Iter 2600] Loss 3.750400\n"
          ]
        },
        {
          "output_type": "display_data",
          "data": {
            "image/png": "[encoded data removed]",
            "text/plain": [
              "<Figure size 432x288 with 1 Axes>"
            ]
          },
          "metadata": {
            "needs_background": "light"
          }
        }
      ]
    },
    {
      "cell_type": "markdown",
      "metadata": {
        "id": "wQot60XU4KUT"
      },
      "source": [
        "### Part (c) -- 7%\n",
        "\n",
        "This model requires many epochs (>50) to train, and is quite slow without using a GPU.\n",
        "You can train a model yourself, or you can load the model weights that we have trained,\n",
        "and available on the course website (AE_RNN_model.pk).\n",
        "\n",
        "Assuming that your `AutoEncoder` is set up correctly, the following code should run without\n",
        "error."
      ]
    },
    {
      "cell_type": "code",
      "metadata": {
        "id": "vaUUhd-Q4KUU",
        "colab": {
          "base_uri": "https://localhost:8080/"
        },
        "outputId": "46d9a41b-285b-4c66-af67-9335acee9cb6"
      },
      "source": [
        "model = AutoEncoder(10000, 128, 128)\n",
        "checkpoint_path = '/content/gdrive/My Drive/Deep_Learning_Course/AE_RNN_model.pk' # Update me\n",
        "model.load_state_dict(torch.load(checkpoint_path))"
      ],
      "execution_count": null,
      "outputs": [
        {
          "output_type": "execute_result",
          "data": {
            "text/plain": [
              "<All keys matched successfully>"
            ]
          },
          "metadata": {},
          "execution_count": 44
        }
      ]
    },
    {
      "cell_type": "markdown",
      "metadata": {
        "id": "sG-xazc24KUU"
      },
      "source": [
        "Then, repeat your code from Q2(d), for `train_data[10].title`\n",
        "with temperature settings 0.7, 0.9, and 1.5.\n",
        "Explain why we generally don't want the temperature setting to\n",
        "be too **small**."
      ]
    },
    {
      "cell_type": "code",
      "metadata": {
        "id": "AXF5iBHX4KUU",
        "colab": {
          "base_uri": "https://localhost:8080/"
        },
        "outputId": "44a6420b-b927-4e53-d185-624422510586"
      },
      "source": [
        "# Include the generated sequences and explanation in your PDF report.\n",
        "\n",
        "headline = train_data[10].title\n",
        "input_seq = torch.Tensor([vocab.stoi[w] for w in headline]).unsqueeze(0).long()\n",
        "hidden = model.encode(input_seq)\n",
        "orgTitle = ' '.join(headline)\n",
        "print(f'Original) {orgTitle}')\n",
        "# Include the generated sequences and explanation in your PDF report.\n",
        "for temperature in [0.7,0.9,1.5]:\n",
        "  print(25*'=' + ' Temperature ' + str(temperature) +' ' + 25*'=')\n",
        "  for iter in range(5):\n",
        "    print(f'{str(iter)}) {sample_sequence(model, hidden, temperature=temperature)}')"
      ],
      "execution_count": null,
      "outputs": [
        {
          "output_type": "stream",
          "name": "stdout",
          "text": [
            "Original) <bos> wall street rises , limps across the finish line of a turbulent year <eos>\n",
            "========================= Temperature 0.7 =========================\n",
            "0) ['wall', 'street', 'rises', ',', 'limps', 'across', 'the', 'finish', 'line', 'of', 'a', 'turbulent', 'year']\n",
            "1) ['wall', 'street', 'rises', ',', 'limps', 'across', 'the', 'finish', 'line', ',', 'next', 'election', 'post']\n",
            "2) ['wall', 'street', 'rises', ',', 'limps', 'open', 'sentence', ',', 'second', 'olympics', '<pad>', 'praise', 'solar']\n",
            "3) ['wall', 'street', 'rises', ',', 'limps', 'die', 'win', 'at', '$', '<pad>', 'highway', 'election', 'surge']\n",
            "4) ['wall', 'street', 'rises', ',', 'limps', 'form', 'atlantia', 'after', 'to', '<pad>', 'credits', ':', 'nazi']\n",
            "========================= Temperature 0.9 =========================\n",
            "0) ['wall', 'street', 'rises', ',', 'limps', 'die', 'win', 'at', ',', 'pay', 'market', 'after', 'gabon']\n",
            "1) ['wall', 'street', 'rises', ',', 'limps', 'die', 'win', \"'s\", 'ways', 'season', ':', '<pad>', 'political']\n",
            "2) ['wall', 'street', 'rises', ',', 'limps', 'die', 'win', 'at', '$', 'top', 'iran', 'azerbaijan', 'signs']\n",
            "3) ['wall', 'street', 'rises', ',', 'limps', 'die', 'win', 'at', 'of', 'sciences', 'election', 'four']\n",
            "4) ['wall', 'street', 'rises', ',', 'limps', 'across', 'the', 'finish', 'line', 'of', 'a', 'turbulent', 'year']\n",
            "========================= Temperature 1.5 =========================\n",
            "0) ['wall', 'street', 'rises', ',', 'limps', 'hazard', 'to', 'consent', 'as', 'stake', '<pad>', 'peaking', 'ahead']\n",
            "1) ['wall', 'street', 'rises', ',', 'limps', 'behind', 'home', 'title', 'avoid', 'to', 'confident', 'this', 'year']\n",
            "2) ['wall', 'street', 'st.', 'positive', '<unk>', 'abandoned', \"'s\", 'pulls', 'challenging', '<pad>', 'back', '<pad>', 'found', 'post']\n",
            "3) ['wall', 'street', 'comcast', 'basis', ',', 'initial', 'iaaf', 'alarms', \"'s\", 'rally', 'indonesia', 'deal', 'royal']\n",
            "4) ['wall', 'street', 'rises', ',', 'limps', 'across', 'starmer', 'after', 'look', '<pad>', 'three', 'in', 'modestly']\n"
          ]
        }
      ]
    },
    {
      "cell_type": "markdown",
      "metadata": {
        "id": "tgjhZHJDRljU"
      },
      "source": [
        "**Write your explanation here:**\n",
        "As we showed in section (2d), when the temperature decreases, the distribution tends to a delta function over the maximal logit value. If for example there are one or more logits that are close to the maximal logit value, while the temperature is very small, the model will almost always return the word that corresponded to the maximal logit value. In this case, the model will probably miss other reasonable words with logit values that are close to the maximal logit value. We also would like to insert randomness in the model prediction since there is a sense of randomness in the human language, where several sentences may start the same while ending up totally different. For example, There are many beautiful women, There are many cold-blood killers. "
      ]
    },
    {
      "cell_type": "markdown",
      "metadata": {
        "id": "mftjD-To4KUU"
      },
      "source": [
        "## Question 4. Latent space manipulations (20%)\n",
        "\n",
        "In parts 2-3, we've explored the decoder portion of the autoencoder. In this section,\n",
        "let's explore the **encoder**. In particular, the encoder RNN gives us \n",
        "embeddings of news headlines!\n",
        "\n",
        "First, let's load the **validation** data set:"
      ]
    },
    {
      "cell_type": "code",
      "metadata": {
        "id": "08HhRGfm4KUU"
      },
      "source": [
        "valid_data = data.TabularDataset(\n",
        "    path=valid_path,                # data file path\n",
        "    format=\"tsv\",                   # fields are separated by a tab\n",
        "    fields=[('title', text_field)]) # list of fields (we have only one)"
      ],
      "execution_count": null,
      "outputs": []
    },
    {
      "cell_type": "markdown",
      "metadata": {
        "id": "utBRC0tq4KUV"
      },
      "source": [
        "### Part (a) -- 4%\n",
        "\n",
        "Compute the embeddings of every item in the validation set. Then, store the\n",
        "result in a single PyTorch tensor of shape `[19046, 128]`, since there are\n",
        "19,046 headlines in the validation set."
      ]
    },
    {
      "cell_type": "code",
      "metadata": {
        "id": "9GmdVIPB4KUV"
      },
      "source": [
        "# Write your code here\n",
        "# Show that your resulting PyTorch tensor has shape `[19046, 128]`\n",
        "embeddingList = []\n",
        "# move the model to the device \n",
        "model.to(device)\n",
        "for element in valid_data:\n",
        "  headline = element.title\n",
        "  input_seq = torch.Tensor([vocab.stoi[w] for w in headline]).unsqueeze(0).long().to(device)\n",
        "  hidden = model.encode(input_seq).cpu()\n",
        "  embeddingList.append(hidden.squeeze())"
      ],
      "execution_count": null,
      "outputs": []
    },
    {
      "cell_type": "code",
      "source": [
        "embeddingTensor = torch.stack(embeddingList,0)\n",
        "embeddingTensor.shape"
      ],
      "metadata": {
        "colab": {
          "base_uri": "https://localhost:8080/"
        },
        "id": "9L_idDM8INsM",
        "outputId": "478fb2e9-6112-47d4-b6ed-5d56941ab8e6"
      },
      "execution_count": null,
      "outputs": [
        {
          "output_type": "execute_result",
          "data": {
            "text/plain": [
              "torch.Size([19046, 128])"
            ]
          },
          "metadata": {},
          "execution_count": 68
        }
      ]
    },
    {
      "cell_type": "markdown",
      "metadata": {
        "id": "BlKbT2vW4KUV"
      },
      "source": [
        "### Part (b) -- 4%\n",
        "\n",
        "Find the 5 closest headlines to the headline `valid_data[13]`. Use the\n",
        "cosine similarity to determine closeness. (Hint: You can use code from assignment 2)"
      ]
    },
    {
      "cell_type": "code",
      "metadata": {
        "id": "7AMt2HIz4KUV",
        "colab": {
          "base_uri": "https://localhost:8080/"
        },
        "outputId": "e0c414fc-72c7-404f-c03a-a9ed9841562c"
      },
      "source": [
        "# Write your code here. Make sure to include the actual 5 closest headlines.\n",
        "embeddings = embeddingTensor.detach().numpy()\n",
        "norms = np.linalg.norm(embeddings, axis=1)\n",
        "embeddings_norm = (embeddings.T / norms).T\n",
        "similarities = np.matmul(embeddings_norm, embeddings_norm.T)"
      ],
      "execution_count": null,
      "outputs": [
        {
          "output_type": "execute_result",
          "data": {
            "text/plain": [
              "(19046, 19046)"
            ]
          },
          "metadata": {},
          "execution_count": 70
        }
      ]
    },
    {
      "cell_type": "code",
      "source": [
        "def find_similarity(data,HeadlineIdx,similiartyMat):\n",
        "  similarities_vec = similiartyMat[HeadlineIdx,:]\n",
        "  most5sim = similarities_vec.argsort()[-6:][::-1][1:]\n",
        "  similarities_headlines = [' '.join(data[idx].title) for idx in most5sim]\n",
        "  return similarities_headlines, similarities_vec[most5sim]"
      ],
      "metadata": {
        "id": "9FcUAb0EL0aM"
      },
      "execution_count": null,
      "outputs": []
    },
    {
      "cell_type": "code",
      "source": [
        "def print_similarity(idx):\n",
        "  headline = valid_data[idx].title\n",
        "  orgTitle = ' '.join(headline)\n",
        "  print(f'Original) {orgTitle}')\n",
        "  similarHeadlines,similiaryVec = find_similarity(valid_data,idx,similarities)\n",
        "  for cnt, vals in enumerate(zip(similarHeadlines,similiaryVec)):\n",
        "    headline,similiaryVal = vals\n",
        "    similiaryVal = floor((similiaryVal) * 10**5) / 10**5\n",
        "    print(f'{cnt}) {headline} -- Similarity of {similiaryVal}')"
      ],
      "metadata": {
        "id": "VeAqZhTrPgAU"
      },
      "execution_count": null,
      "outputs": []
    },
    {
      "cell_type": "code",
      "source": [
        "print_similarity(13)"
      ],
      "metadata": {
        "colab": {
          "base_uri": "https://localhost:8080/"
        },
        "id": "TNNq4n1_MJZC",
        "outputId": "c439f988-c034-4eda-9251-79d7625ade6d"
      },
      "execution_count": null,
      "outputs": [
        {
          "output_type": "stream",
          "name": "stdout",
          "text": [
            "Original) <bos> asia takes heart from new year gains in u.s. stock futures <eos>\n",
            "0) <bos> italy 's salvini loses aura of invincibility in emilia setback <eos> -- Similarity of 0.93087\n",
            "1) <bos> saudi , russia look to seal deeper output cuts with oil producers <eos> -- Similarity of 0.93055\n",
            "2) <bos> eu orders quarantine for staff who traveled to northern italy <eos> -- Similarity of 0.92985\n",
            "3) <bos> update _num_-italy 's prime minister says new government will bicker less <eos> -- Similarity of 0.92876\n",
            "4) <bos> portugal 's moura pays tribute to cod fishermen at milan fashion close <eos> -- Similarity of 0.92808\n"
          ]
        }
      ]
    },
    {
      "cell_type": "markdown",
      "metadata": {
        "id": "cAzZt4bU4KUW"
      },
      "source": [
        "### Part (c) -- 4%\n",
        "\n",
        "Find the 5 closest headlines to another headline of your choice."
      ]
    },
    {
      "cell_type": "code",
      "metadata": {
        "id": "BkKR09Ce4KUW",
        "colab": {
          "base_uri": "https://localhost:8080/"
        },
        "outputId": "e6a2afd3-8a76-4a0e-f53d-fbdc0af3190b"
      },
      "source": [
        "print_similarity(10)"
      ],
      "execution_count": null,
      "outputs": [
        {
          "output_type": "stream",
          "name": "stdout",
          "text": [
            "Original) <bos> trump invites congressional leaders to border security briefing - source <eos>\n",
            "0) <bos> trump ask congressional leaders to return for shutdown talks on friday : lawmaker <eos> -- Similarity of 0.93873\n",
            "1) <bos> trump to receive update on border security bill : official <eos> -- Similarity of 0.93129\n",
            "2) <bos> trump told russians in _num_ not concerned by meddling -wapo <eos> -- Similarity of 0.92995\n",
            "3) <bos> trump re-election campaign targeted by iran-linked hackers : sources <eos> -- Similarity of 0.92706\n",
            "4) <bos> trump picks herman cain for fed , news reports say <eos> -- Similarity of 0.92681\n"
          ]
        }
      ]
    },
    {
      "cell_type": "markdown",
      "metadata": {
        "id": "ftUooZD-4KUW"
      },
      "source": [
        "### Part (d) -- 8%\n",
        "\n",
        "Choose two headlines from the validation set, and find their embeddings.\n",
        "We will **interpolate** between the two embeddings like we did in the example presented in class for training autoencoders on MNIST.\n",
        "\n",
        "Find 3 points, equally spaced between the embeddings of your headlines.\n",
        "If we let $e_0$ be the embedding of your first headline and $e_4$ be\n",
        "the embedding of your second headline, your three points should be:\n",
        "\n",
        "\\begin{align*}\n",
        "e_1 &=  0.75 e_0 + 0.25 e_4 \\\\\n",
        "e_2 &=  0.50 e_0 + 0.50 e_4 \\\\\n",
        "e_3 &=  0.25 e_0 + 0.75 e_4 \\\\\n",
        "\\end{align*}\n",
        "\n",
        "Decode each of $e_1$, $e_2$ and $e_3$ five times, with a temperature setting\n",
        "that shows some variation in the generated sequences. Try to get a logical and cool sentence (this might be hard)."
      ]
    },
    {
      "cell_type": "code",
      "metadata": {
        "id": "7SYa3PNc4KUW",
        "colab": {
          "base_uri": "https://localhost:8080/"
        },
        "outputId": "64387b25-85f6-471a-b88f-0e2fea1a122b"
      },
      "source": [
        "WordIdx = [13,17]\n",
        "headlines = [valid_data[idx].title for idx in WordIdx]\n",
        "input_seqs = torch.stack([torch.Tensor([vocab.stoi[w] for w in headline]).long() for headline in headlines])\n",
        "model = model.cpu()\n",
        "e = model.encode(input_seqs).squeeze(0).detach()\n",
        "\n",
        "e1 = 0.75*e[0]+0.25*e[1]\n",
        "e2 = 0.5*e[0]+0.5*e[1]\n",
        "e3 = 0.25*e[0]+0.75*e[1]  \n",
        "\n",
        "encs=[e1,e2,e3]\n",
        "temp=1.5\n",
        "temperature = 1.5\n",
        "print(\"temperature:\",temperature)\n",
        "es = [\"e1\", \"e2\", \"e3\"]\n",
        "for idx, headline in enumerate(headlines):\n",
        "  print(f'Original {idx}) {\" \".join(headline)}')\n",
        "\n",
        "for e_index, e in enumerate([e1, e2, e3]):\n",
        "  print(es[e_index],\" decodings:\")\n",
        "  e = e.unsqueeze(0).unsqueeze(0)\n",
        "  for i in range(5):\n",
        "    print(sample_sequence(model, e, temperature=temperature))\n"
      ],
      "execution_count": null,
      "outputs": [
        {
          "output_type": "stream",
          "name": "stdout",
          "text": [
            "temperature: 1.5\n",
            "Original 0) <bos> asia takes heart from new year gains in u.s. stock futures <eos>\n",
            "Original 1) <bos> indian manufacturing growth slows in december despite price cuts : pmi <eos>\n",
            "e1  decodings:\n",
            "['update', 'palm', 'serena', 'flat', 'slowest', 'u.s.', 'for', 'day', 'decade', 'inbev', 'than']\n",
            "['markets', 'services', 'demonstrate', 'first', 'lazard', 'for', 'after', 'crude', 'tumble', '_num_', 'wall']\n",
            "['asia', 'takes', 'crosshairs', 'sector', 'says', 'santos', 'march', 'tumble', 'of', 'biggest', 'powder']\n",
            "['apple', 'ended', 'in', 'jet', 'prices', \"'s\", 'three', 'weekly', 'after', '<pad>', 'rivals']\n",
            "['inbev', 'who', 'slumps', 'cities', 'biggest', 'of', 'week', 'steadies', 'almost', 'line', 'weak']\n",
            "e2  decodings:\n",
            "['recycling', ';', 'nearly', 'under', 'of', 'high', 'compound', 'decade', 'bolsonaro', 'as', 'likely']\n",
            "['indian', 'lining', 'lower', 'bayer', 'coast', 'growth', 'in', '<pad>', 'fuel', 'november', 'growth']\n",
            "['indian', 'miners', 'trading', 'emissions', 'in', 'central', 'quarter', 'oil', 'european', '_num_', 'suncor']\n",
            "['emerging', '_num_', 'criticism', 'drops', 'in', 'top', 'three', 'inbev', 'output', 'stocks', 'nice']\n",
            "['antitrust', 'nearly', 'up', 'concerns', 'death', 'investments', 'tanker', 'takeover', 'investment', 'deal', 'thursday']\n",
            "e3  decodings:\n",
            "['indian', '%', 'takeover', 'january', 'in', '%', 'despite', 'to', 'aramco', 'shifting', 'sources']\n",
            "['utah', 'output', '_num_', 'asian', 'in', 'hughes', '<pad>', 'global', 'january', 'strong', 'seat']\n",
            "['indian', 'asia', 'pistons', 'tame', 'in', 'next', ';', 'nov', 'more', ';', 'netherlands']\n",
            "['indian', 'down', 'revenue', 'anti-semitism', 'first', 'in', 'investments', 'to', 'fx', 'plants', ':']\n",
            "['indian', 'income', 'max', 'in', 'fall', 'weeks', 'dec', 'chances', 'fall', 'oil', 'past']\n"
          ]
        }
      ]
    },
    {
      "cell_type": "markdown",
      "source": [
        "**Generating PDF format**"
      ],
      "metadata": {
        "id": "nnTdvJZofCk9"
      }
    },
    {
      "cell_type": "code",
      "source": [
        "!apt-get install texlive texlive-xetex texlive-latex-extra pandoc\n",
        "!pip install pypandoc"
      ],
      "metadata": {
        "colab": {
          "base_uri": "https://localhost:8080/"
        },
        "id": "C9aTvKomey_A",
        "outputId": "5cdb19be-8bee-4cfa-90cc-4368cc0b4845"
      },
      "execution_count": null,
      "outputs": [
        {
          "output_type": "stream",
          "name": "stdout",
          "text": [
            "Reading package lists... Done\n",
            "Building dependency tree       \n",
            "Reading state information... Done\n",
            "pandoc is already the newest version (1.19.2.4~dfsg-1build4).\n",
            "texlive is already the newest version (2017.20180305-1).\n",
            "texlive-latex-extra is already the newest version (2017.20180305-2).\n",
            "texlive-xetex is already the newest version (2017.20180305-1).\n",
            "0 upgraded, 0 newly installed, 0 to remove and 37 not upgraded.\n",
            "Requirement already satisfied: pypandoc in /usr/local/lib/python3.7/dist-packages (1.7.2)\n"
          ]
        }
      ]
    },
    {
      "cell_type": "code",
      "source": [
        "from google.colab import drive\n",
        "drive.mount('/content/gdrive')"
      ],
      "metadata": {
        "colab": {
          "base_uri": "https://localhost:8080/"
        },
        "id": "UACuP09g7Xgs",
        "outputId": "1db7de52-fe5e-4a8b-dba2-1ebaeaefc663"
      },
      "execution_count": null,
      "outputs": [
        {
          "output_type": "stream",
          "name": "stdout",
          "text": [
            "Drive already mounted at /content/gdrive; to attempt to forcibly remount, call drive.mount(\"/content/gdrive\", force_remount=True).\n"
          ]
        }
      ]
    },
    {
      "cell_type": "code",
      "source": [
        "!cp gdrive/My\\ Drive/Colab\\ Notebooks/Assignment4.ipynb ./\n",
        "!jupyter nbconvert --to=pdf \"Assignment4.ipynb\""
      ],
      "metadata": {
        "colab": {
          "base_uri": "https://localhost:8080/"
        },
        "id": "dv0TL4O_fAfu",
        "outputId": "b4779830-5b02-4a8d-a3bf-1445b61ed6cb"
      },
      "execution_count": null,
      "outputs": [
        {
          "output_type": "stream",
          "name": "stdout",
          "text": [
            "[NbConvertApp] Converting notebook Assignment4.ipynb to pdf\n",
            "[NbConvertApp] Support files will be in Assignment4_files/\n",
            "[NbConvertApp] Making directory ./Assignment4_files\n",
            "[NbConvertApp] Making directory ./Assignment4_files\n",
            "[NbConvertApp] Writing 110286 bytes to ./notebook.tex\n",
            "[NbConvertApp] Building PDF\n",
            "[NbConvertApp] Running xelatex 3 times: [u'xelatex', u'./notebook.tex', '-quiet']\n",
            "[NbConvertApp] Running bibtex 1 time: [u'bibtex', u'./notebook']\n",
            "[NbConvertApp] WARNING | bibtex had problems, most likely because there were no citations\n",
            "[NbConvertApp] PDF successfully created\n",
            "[NbConvertApp] Writing 133905 bytes to Assignment4.pdf\n"
          ]
        }
      ]
    }
  ]
}